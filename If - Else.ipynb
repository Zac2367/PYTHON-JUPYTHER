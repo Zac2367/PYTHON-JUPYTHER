{
 "cells": [
  {
   "cell_type": "markdown",
   "metadata": {},
   "source": [
    "# IF - ELSE - ELIF"
   ]
  },
  {
   "cell_type": "code",
   "execution_count": 9,
   "metadata": {},
   "outputs": [
    {
     "name": "stdout",
     "output_type": "stream",
     "text": [
      "ITS TRUE!\n"
     ]
    }
   ],
   "source": [
    "hungry = True\n",
    "\n",
    "if hungry==True:\n",
    "    print(\"ITS TRUE!\")\n",
    "else: \n",
    "    print(\"IT IS NOT TRUE\")"
   ]
  },
  {
   "cell_type": "code",
   "execution_count": 12,
   "metadata": {},
   "outputs": [
    {
     "name": "stdout",
     "output_type": "stream",
     "text": [
      "Money is Cool\n"
     ]
    }
   ],
   "source": [
    "loc = \"Bank\"\n",
    "\n",
    "if loc == \"Auto Shop\":\n",
    "    print(\"Cars are Cool\")\n",
    "    \n",
    "elif loc ==\"Bank\":\n",
    "    print(\"Money is Cool\")\n",
    "    \n",
    "elif loc == \"Store\":\n",
    "    print(\"Welcome to the store\")\n",
    "\n",
    "else:\n",
    "    print(\"I do not know much\")"
   ]
  },
  {
   "cell_type": "code",
   "execution_count": 16,
   "metadata": {},
   "outputs": [
    {
     "name": "stdout",
     "output_type": "stream",
     "text": [
      "What´s your name\n"
     ]
    }
   ],
   "source": [
    "name = \"Jose\"\n",
    "\n",
    "if name == \"Frankie\":\n",
    "    print(\"Hello Frankie!\")\n",
    "\n",
    "elif name == \"Sammy\":\n",
    "    print(\"Hello Sammy\")\n",
    "\n",
    "else:\n",
    "    print(\"What´s your name\")"
   ]
  },
  {
   "cell_type": "code",
   "execution_count": null,
   "metadata": {},
   "outputs": [],
   "source": []
  }
 ],
 "metadata": {
  "kernelspec": {
   "display_name": "Python 3",
   "language": "python",
   "name": "python3"
  },
  "language_info": {
   "codemirror_mode": {
    "name": "ipython",
    "version": 3
   },
   "file_extension": ".py",
   "mimetype": "text/x-python",
   "name": "python",
   "nbconvert_exporter": "python",
   "pygments_lexer": "ipython3",
   "version": "3.7.6"
  }
 },
 "nbformat": 4,
 "nbformat_minor": 4
}
